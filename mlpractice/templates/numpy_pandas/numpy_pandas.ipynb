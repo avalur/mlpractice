{
 "cells": [
  {
   "cell_type": "markdown",
   "metadata": {
    "id": "7K_rmn1sG9rf"
   },
   "source": [
    "### Знакомство с Numpy и Pandas\n",
    "\n",
    "Во всех заданиях данного раздела запрещено использовать циклы (ключевые слова *for* и *while*), [list comprehension](https://habrahabr.ru/post/30232/), [map и т.п.](http://pythonicway.com/python-functinal-programming)\n",
    "\n",
    "Под матрицей в заданиях понимается двумерный [numpy.array](https://docs.scipy.org/doc/numpy/reference/generated/numpy.array.html)"
   ]
  },
  {
   "cell_type": "code",
   "execution_count": 1,
   "metadata": {
    "id": "o-q-l906G8J6"
   },
   "outputs": [],
   "source": [
    "import numpy as np\n",
    "\n",
    "from numpy.testing import assert_array_equal\n",
    "\n",
    "import typing as tp\n",
    "import dataclasses"
   ]
  },
  {
   "cell_type": "markdown",
   "metadata": {
    "id": "suLnp7DcHHE-"
   },
   "source": [
    "1. Реализуйте функцию, принимающую на вход матрицу ```X``` и два массива индексов ```row_indices``` и ```col_indices``` одинаковой длины и возвращающую `np.array`, состоящий из последовательности элементов \n",
    "\n",
    "```[X[row_indices[0], col_indices[0]], ... , X[row_indices[N-1], col_indices[N-1]]]```"
   ]
  },
  {
   "cell_type": "code",
   "execution_count": null,
   "metadata": {
    "id": "gUhj5T5IHFLs"
   },
   "outputs": [],
   "source": [
    "#!source<mlpractice.numpy_pandas.construct_array>"
   ]
  },
  {
   "cell_type": "code",
   "execution_count": null,
   "metadata": {},
   "outputs": [],
   "source": [
    "from mlpractice.tests.numpy_pandas.test_construct_array import test_all\n",
    "\n",
    "test_all(construct_array)"
   ]
  },
  {
   "cell_type": "markdown",
   "metadata": {},
   "source": [
    "2. Реализуйте функцию, принимающую на вход два одномерных массива ```x``` и ```y``` и возвращающую матрицу, в которой первый массив соответствует первому столбцу матрицы, второй — второму.\n",
    "\n",
    "В этом задании **запрещается** пользоваться операцией транспонирования и рекомедуется воспользоваться методом [reshape](https://docs.scipy.org/doc/numpy-1.13.0/reference/generated/numpy.reshape.html)."
   ]
  },
  {
   "cell_type": "code",
   "execution_count": null,
   "metadata": {},
   "outputs": [],
   "source": [
    "#!source<mlpractice.numpy_pandas.construct_matrix>"
   ]
  },
  {
   "cell_type": "code",
   "execution_count": 2,
   "metadata": {},
   "outputs": [],
   "source": [
    "from mlpractice.tests.numpy_pandas.test_construct_matrix import test_all\n",
    "\n",
    "test_all(construct_matrix)"
   ]
  },
  {
   "cell_type": "markdown",
   "metadata": {
    "id": "kcTVkJYzHLph"
   },
   "source": [
    "3. Реализуйте функцию для подсчёта произведения ненулевых элементов на диагонали прямоугольной матрицы\n",
    "\n",
    "Например, для ```X = np.array([[1, 0, 1], [2, 0, 2], [3, 0, 3], [4, 4, 4]])``` ответом является 3.\n",
    "Если ненулевых элементов нет, функция должна возвращать ```None```."
   ]
  },
  {
   "cell_type": "code",
   "execution_count": null,
   "metadata": {},
   "outputs": [],
   "source": [
    "#!source<mlpractice.numpy_pandas.nonzero_product>"
   ]
  },
  {
   "cell_type": "code",
   "execution_count": null,
   "metadata": {
    "id": "Awt1RoyVHOBl"
   },
   "outputs": [],
   "source": [
    "from mlpractice.tests.numpy_pandas.test_nonzero_product import test_all\n",
    "\n",
    "test_all(nonzero_product)"
   ]
  },
  {
   "cell_type": "markdown",
   "metadata": {
    "id": "zr2iL-s-HQWB"
   },
   "source": [
    "4. Реализуйте функцию, возвращающую максимальный элемент в массиве ```X``` среди элементов, перед которыми стоит нулевой.\n",
    "\n",
    "Например, для ```X = np.array([6, 2, 0, 3, 0, 0, 5, 7, 0])``` ответом является 5.\n",
    "Если подходящих элементов нет, функция должна возвращать ```None```."
   ]
  },
  {
   "cell_type": "code",
   "execution_count": null,
   "metadata": {},
   "outputs": [],
   "source": [
    "#!source<mlpractice.numpy_pandas.max_element_spec>"
   ]
  },
  {
   "cell_type": "code",
   "execution_count": null,
   "metadata": {
    "id": "Vkiuw6mEHT_T"
   },
   "outputs": [],
   "source": [
    "from mlpractice.tests.numpy_pandas.test_max_element_spec import test_all\n",
    "\n",
    "test_all(max_element_spec)"
   ]
  },
  {
   "cell_type": "markdown",
   "metadata": {
    "id": "35v_P8PfHSiZ"
   },
   "source": [
    "5. Реализуйте функцию, принимающую на вход матрицу ```matrix``` и некоторое число ```value``` и возвращающую ближайший к числу элемент матрицы.\n",
    "\n",
    "Например, для ```matrix = np.arange(0,10).reshape((2, 5))``` и ```value = 3.6``` ответом будет 4."
   ]
  },
  {
   "cell_type": "code",
   "execution_count": null,
   "metadata": {},
   "outputs": [],
   "source": [
    "#!source<mlpractice.numpy_pandas.nearest_value>"
   ]
  },
  {
   "cell_type": "code",
   "execution_count": null,
   "metadata": {
    "id": "HXiKj59JHXWH"
   },
   "outputs": [],
   "source": [
    "from mlpractice.tests.numpy_pandas.test_nearest_value import test_all\n",
    "\n",
    "test_all(nearest_value)"
   ]
  },
  {
   "cell_type": "markdown",
   "metadata": {
    "id": "6WQ_aE9gHZ3C"
   },
   "source": [
    "6. Реализуйте функцию, принимающую на вход матрицу `matrix` и возвращающую все её уникальные строки в виде матрицы."
   ]
  },
  {
   "cell_type": "code",
   "execution_count": null,
   "metadata": {},
   "outputs": [],
   "source": [
    "#!source<mlpractice.numpy_pandas.get_unique_rows>"
   ]
  },
  {
   "cell_type": "code",
   "execution_count": null,
   "metadata": {
    "id": "HXiKj59JHXWH"
   },
   "outputs": [],
   "source": [
    "from mlpractice.tests.numpy_pandas.test_get_unique_rows import test_all\n",
    "\n",
    "test_all(get_unique_rows)"
   ]
  },
  {
   "cell_type": "markdown",
   "metadata": {
    "id": "LS_mO_rJHf4g"
   },
   "source": [
    "7. Реализуйте функцию, каторая во входной вещественной матрице ```matrix``` находит все значения ```nan``` и заменяет их на среднее арифметическое всех остальных элементов. Если все элементы матрицы ```nan```, то верните нулевую матрицу той же размерности.\n",
    "\n",
    "Например, матрица ```np.array([[nan,  1,  2,  3], [4, nan,  5, nan]])``` перейдет в ```np.array([[3, 1, 2, 3], [4, 3, 5, 3]])```"
   ]
  },
  {
   "cell_type": "code",
   "execution_count": null,
   "metadata": {},
   "outputs": [],
   "source": [
    "#!source<mlpractice.numpy_pandas.replace_nans>"
   ]
  },
  {
   "cell_type": "code",
   "execution_count": null,
   "metadata": {
    "id": "HXiKj59JHXWH"
   },
   "outputs": [],
   "source": [
    "from mlpractice.tests.numpy_pandas.test_replace_nans import test_all\n",
    "\n",
    "test_all(replace_nans)"
   ]
  },
  {
   "cell_type": "markdown",
   "metadata": {
    "id": "DrAZvyntIJUg"
   },
   "source": [
    "8. Написать функцию, которая получает на вход матрицу и масштабирует каждый её столбец, а именно вычитает из столбца его среднее значение и делит столбец на стандартное отклонение. \n",
    "\n",
    "Для тестирования можно сгенерировать с помощью метода `numpy.random.randint` случайную матрицу и проверить на ней работу метода. Убедитесь, что в функции не будет происходить деления на ноль. "
   ]
  },
  {
   "cell_type": "code",
   "execution_count": null,
   "metadata": {},
   "outputs": [],
   "source": [
    "#!source<mlpractice.numpy_pandas.scale>"
   ]
  },
  {
   "cell_type": "code",
   "execution_count": null,
   "metadata": {
    "id": "HXiKj59JHXWH"
   },
   "outputs": [],
   "source": [
    "from mlpractice.tests.numpy_pandas.test_scale import test_all\n",
    "\n",
    "test_all(scale)"
   ]
  },
  {
   "cell_type": "markdown",
   "metadata": {
    "id": "CMTdIfiEINQM"
   },
   "source": [
    "9. Реализуйте функцию, которая для заданной матрицы находит:\n",
    " - определитель\n",
    " - след\n",
    " - наименьший и наибольший элементы\n",
    " - норму Фробениуса\n",
    " - собственные числа\n",
    " - обратную матрицу\n",
    "\n",
    "Для тестирования сгенерируйте матрицу с элементами из нормального распределения *N*(10,1)"
   ]
  },
  {
   "cell_type": "code",
   "execution_count": null,
   "metadata": {},
   "outputs": [],
   "source": [
    "#!source<mlpractice.numpy_pandas.lin_alg_function>"
   ]
  },
  {
   "cell_type": "code",
   "execution_count": null,
   "metadata": {
    "id": "HXiKj59JHXWH"
   },
   "outputs": [],
   "source": [
    "from mlpractice.tests.numpy_pandas.test_lin_alg_function import test_all\n",
    "\n",
    "test_all(lin_alg_function)"
   ]
  },
  {
   "cell_type": "markdown",
   "metadata": {
    "id": "dAC4uHb6IZys"
   },
   "source": [
    "10. Повторите 100 раз следующий эксперимент: сгенерируйте две матрицы размера 10×10 из стандартного нормального распределения, перемножьте их (как матрицы) и найдите максимальный элемент. Какое среднее значение по экспериментам у максимальных элементов? 95-процентная квантиль? (в данной задаче можно использовать цикл только для повторения эксперимента) "
   ]
  },
  {
   "cell_type": "code",
   "execution_count": null,
   "metadata": {},
   "outputs": [],
   "source": [
    "# If you want to submit you solutions authorize\n",
    "USERNAME = \"\"\n",
    "PASSWORD = \"\"\n",
    "\n",
    "from mlpractice.stats.stats_utils import submit\n",
    "\n",
    "submit(USERNAME, PASSWORD)"
   ]
  },
  {
   "cell_type": "markdown",
   "metadata": {
    "id": "JPUiojnEIlGP"
   },
   "source": [
    "### Pandas (без тестов)"
   ]
  },
  {
   "cell_type": "code",
   "execution_count": null,
   "metadata": {
    "id": "FGCmQXuIIdmn"
   },
   "outputs": [],
   "source": [
    "import pandas as pd"
   ]
  },
  {
   "cell_type": "markdown",
   "metadata": {
    "id": "QXhmTiQHImLp"
   },
   "source": [
    "Загрузите данные о пассажирах Титаника из файла *titanic.csv* и ответьте на вопросы ниже. Каждый ответ поясните.\n",
    "\n",
    "1. Опишите данный датасет: какое расределение женщин/мужчин в нем? Сколько пассажиров ехало в каждом классе? Какой средний/минимальный/максимальный возраст пассажиров? Сколько было выживших пассажиров?"
   ]
  },
  {
   "cell_type": "markdown",
   "metadata": {
    "id": "1ahIW-TCI2r3"
   },
   "source": [
    "2. Верно ли, что женщины выживали чаще мужчин? Какие пассажиры выживали чаще: с более дешевыми или дорогими билетами? Верно ли, что чаще выживали более молодые пассажиры?"
   ]
  },
  {
   "cell_type": "markdown",
   "metadata": {
    "id": "MrxN8Y7OI6Vu"
   },
   "source": [
    "3. Сгруппируйте записи по классам пассажиров, в каждой группе посчитайте средний возраст. Верно ли, что во всех классах эта величина примерно одинакова?\n"
   ]
  },
  {
   "cell_type": "markdown",
   "metadata": {
    "id": "2Ee80P1KI86d"
   },
   "source": [
    "4. Найдите все признаки, для которых есть пропуски в данных. Обычно алгоритмы по умолчанию не умеют обрабатывать такие данные. Предложите способы обработки данных с пропусками (не менее двух) и укажите достоинства/недостаки каждого. Проиллюстрируйте один из них на примере данного датасета."
   ]
  }
 ],
 "metadata": {
  "colab": {
   "name": "HW1.ipynb",
   "provenance": []
  },
  "kernelspec": {
   "display_name": "Python 3 (ipykernel)",
   "language": "python",
   "name": "python3"
  },
  "language_info": {
   "codemirror_mode": {
    "name": "ipython",
    "version": 3
   },
   "file_extension": ".py",
   "mimetype": "text/x-python",
   "name": "python",
   "nbconvert_exporter": "python",
   "pygments_lexer": "ipython3",
   "version": "3.9.7"
  }
 },
 "nbformat": 4,
 "nbformat_minor": 1
}